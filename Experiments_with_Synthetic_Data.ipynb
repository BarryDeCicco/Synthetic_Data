{
  "nbformat": 4,
  "nbformat_minor": 0,
  "metadata": {
    "colab": {
      "provenance": [],
      "toc_visible": true,
      "authorship_tag": "ABX9TyPigmohy2MRutfbZ/9ZeUdJ",
      "include_colab_link": true
    },
    "kernelspec": {
      "name": "python3",
      "display_name": "Python 3"
    },
    "language_info": {
      "name": "python"
    }
  },
  "cells": [
    {
      "cell_type": "markdown",
      "metadata": {
        "id": "view-in-github",
        "colab_type": "text"
      },
      "source": [
        "<a href=\"https://colab.research.google.com/github/BarryDeCicco/Synthetic_Data/blob/main/Experiments_with_Synthetic_Data.ipynb\" target=\"_parent\"><img src=\"https://colab.research.google.com/assets/colab-badge.svg\" alt=\"Open In Colab\"/></a>"
      ]
    },
    {
      "cell_type": "markdown",
      "source": [
        "# Install package 'ydata-sdk' from 'https://pypi.org/'"
      ],
      "metadata": {
        "id": "sLdTJCfgMeCs"
      }
    },
    {
      "cell_type": "code",
      "source": [
        "# prompt: install package 'ydata-sdk' from 'https://pypi.org/'\n",
        "\n",
        "!pip install ydata-sdk\n",
        "\n"
      ],
      "metadata": {
        "id": "GdAi5Ho1Lw6m"
      },
      "execution_count": null,
      "outputs": []
    },
    {
      "cell_type": "markdown",
      "source": [
        "# Getting Original Data Set from Kaggle:"
      ],
      "metadata": {
        "id": "KcAthu5UJYz-"
      }
    },
    {
      "cell_type": "code",
      "source": [
        "import kagglehub\n",
        "\n",
        "# Download latest version\n",
        "path = kagglehub.dataset_download(\"prasad22/healthcare-dataset\")\n",
        "\n",
        "print(\"Path to dataset files:\", path)"
      ],
      "metadata": {
        "colab": {
          "base_uri": "https://localhost:8080/"
        },
        "id": "DvYS5z40HqWc",
        "outputId": "82dd8edd-3786-491c-9848-831f04c11fc5"
      },
      "execution_count": 1,
      "outputs": [
        {
          "output_type": "stream",
          "name": "stdout",
          "text": [
            "Path to dataset files: /root/.cache/kagglehub/datasets/prasad22/healthcare-dataset/versions/2\n"
          ]
        }
      ]
    },
    {
      "cell_type": "code",
      "source": [
        "# prompt: list data sets at /root/.cache/kagglehub/datasets/prasad22/healthcare-dataset/versions/2\n",
        "\n",
        "import os\n",
        "dataset_path = \"/root/.cache/kagglehub/datasets/prasad22/healthcare-dataset/versions/2\"\n",
        "\n",
        "if os.path.exists(dataset_path):\n",
        "    for filename in os.listdir(dataset_path):\n",
        "        print(filename)\n",
        "else:\n",
        "    print(f\"The directory '{dataset_path}' does not exist.\")\n"
      ],
      "metadata": {
        "colab": {
          "base_uri": "https://localhost:8080/"
        },
        "id": "dur5U6SsICgL",
        "outputId": "318424df-83c1-4dd8-8e27-a4eed5156fc7"
      },
      "execution_count": 2,
      "outputs": [
        {
          "output_type": "stream",
          "name": "stdout",
          "text": [
            "healthcare_dataset.csv\n"
          ]
        }
      ]
    },
    {
      "cell_type": "code",
      "source": [
        "# prompt: import /root/.cache/kagglehub/datasets/prasad22/healthcare-dataset/versions/2healthcare_dataset.csv as df_original\n",
        "\n",
        "import pandas as pd\n",
        "import os\n",
        "\n",
        "dataset_path = \"/root/.cache/kagglehub/datasets/prasad22/healthcare-dataset/versions/2\"\n",
        "\n",
        "# Check if the file exists before attempting to read it\n",
        "csv_filepath = os.path.join(dataset_path, \"healthcare_dataset.csv\")\n",
        "\n",
        "if os.path.exists(csv_filepath):\n",
        "    try:\n",
        "        df_original = pd.read_csv(csv_filepath)\n",
        "        print(\"Successfully imported the CSV file as df_original.\")\n",
        "    except pd.errors.ParserError as e:\n",
        "        print(f\"Error parsing the CSV file: {e}\")\n",
        "    except Exception as e:\n",
        "        print(f\"An unexpected error occurred: {e}\")\n",
        "else:\n",
        "    print(f\"The file '{csv_filepath}' does not exist.\")\n"
      ],
      "metadata": {
        "colab": {
          "base_uri": "https://localhost:8080/"
        },
        "id": "SrYfsgBjIJCB",
        "outputId": "765d9288-b0f8-4d73-d967-78c084c75834"
      },
      "execution_count": 3,
      "outputs": [
        {
          "output_type": "stream",
          "name": "stdout",
          "text": [
            "Successfully imported the CSV file as df_original.\n"
          ]
        }
      ]
    },
    {
      "cell_type": "markdown",
      "source": [
        "# Examine Original Data Set:\n",
        "(using YData SDK)"
      ],
      "metadata": {
        "id": "7eOxOJQXJo6Z"
      }
    }
  ]
}