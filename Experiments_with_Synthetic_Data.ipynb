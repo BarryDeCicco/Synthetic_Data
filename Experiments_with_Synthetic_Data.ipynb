{
  "nbformat": 4,
  "nbformat_minor": 0,
  "metadata": {
    "colab": {
      "provenance": [],
      "toc_visible": true,
      "authorship_tag": "ABX9TyN1lDC57pSCLzgTUyejdDIc",
      "include_colab_link": true
    },
    "kernelspec": {
      "name": "python3",
      "display_name": "Python 3"
    },
    "language_info": {
      "name": "python"
    }
  },
  "cells": [
    {
      "cell_type": "markdown",
      "metadata": {
        "id": "view-in-github",
        "colab_type": "text"
      },
      "source": [
        "<a href=\"https://colab.research.google.com/github/BarryDeCicco/Synthetic_Data/blob/main/Experiments_with_Synthetic_Data.ipynb\" target=\"_parent\"><img src=\"https://colab.research.google.com/assets/colab-badge.svg\" alt=\"Open In Colab\"/></a>"
      ]
    },
    {
      "cell_type": "markdown",
      "source": [
        "# Getting Original Data Set from Kaggle:"
      ],
      "metadata": {
        "id": "KcAthu5UJYz-"
      }
    },
    {
      "cell_type": "code",
      "source": [
        "import kagglehub\n",
        "\n",
        "# Download latest version\n",
        "path = kagglehub.dataset_download(\"prasad22/healthcare-dataset\")\n",
        "\n",
        "print(\"Path to dataset files:\", path)"
      ],
      "metadata": {
        "colab": {
          "base_uri": "https://localhost:8080/"
        },
        "id": "DvYS5z40HqWc",
        "outputId": "e7907c40-c443-41d1-8964-f5f9328c9ef5"
      },
      "execution_count": 1,
      "outputs": [
        {
          "output_type": "stream",
          "name": "stdout",
          "text": [
            "Downloading from https://www.kaggle.com/api/v1/datasets/download/prasad22/healthcare-dataset?dataset_version_number=2...\n"
          ]
        },
        {
          "output_type": "stream",
          "name": "stderr",
          "text": [
            "100%|██████████| 2.91M/2.91M [00:00<00:00, 45.4MB/s]"
          ]
        },
        {
          "output_type": "stream",
          "name": "stdout",
          "text": [
            "Extracting files...\n",
            "Path to dataset files: /root/.cache/kagglehub/datasets/prasad22/healthcare-dataset/versions/2\n"
          ]
        },
        {
          "output_type": "stream",
          "name": "stderr",
          "text": [
            "\n"
          ]
        }
      ]
    },
    {
      "cell_type": "code",
      "source": [
        "# prompt: list data sets at /root/.cache/kagglehub/datasets/prasad22/healthcare-dataset/versions/2\n",
        "\n",
        "import os\n",
        "dataset_path = \"/root/.cache/kagglehub/datasets/prasad22/healthcare-dataset/versions/2\"\n",
        "\n",
        "if os.path.exists(dataset_path):\n",
        "    for filename in os.listdir(dataset_path):\n",
        "        print(filename)\n",
        "else:\n",
        "    print(f\"The directory '{dataset_path}' does not exist.\")\n"
      ],
      "metadata": {
        "colab": {
          "base_uri": "https://localhost:8080/"
        },
        "id": "dur5U6SsICgL",
        "outputId": "935a4bb1-b250-4bad-a05f-c71e5b237acb"
      },
      "execution_count": 2,
      "outputs": [
        {
          "output_type": "stream",
          "name": "stdout",
          "text": [
            "healthcare_dataset.csv\n"
          ]
        }
      ]
    },
    {
      "cell_type": "code",
      "source": [
        "# prompt: import /root/.cache/kagglehub/datasets/prasad22/healthcare-dataset/versions/2healthcare_dataset.csv as df_original\n",
        "\n",
        "import pandas as pd\n",
        "import os\n",
        "\n",
        "dataset_path = \"/root/.cache/kagglehub/datasets/prasad22/healthcare-dataset/versions/2\"\n",
        "\n",
        "# Check if the file exists before attempting to read it\n",
        "csv_filepath = os.path.join(dataset_path, \"healthcare_dataset.csv\")\n",
        "\n",
        "if os.path.exists(csv_filepath):\n",
        "    try:\n",
        "        df_original = pd.read_csv(csv_filepath)\n",
        "        print(\"Successfully imported the CSV file as df_original.\")\n",
        "    except pd.errors.ParserError as e:\n",
        "        print(f\"Error parsing the CSV file: {e}\")\n",
        "    except Exception as e:\n",
        "        print(f\"An unexpected error occurred: {e}\")\n",
        "else:\n",
        "    print(f\"The file '{csv_filepath}' does not exist.\")\n"
      ],
      "metadata": {
        "colab": {
          "base_uri": "https://localhost:8080/"
        },
        "id": "SrYfsgBjIJCB",
        "outputId": "d7a1fb12-e04c-476a-cfe2-c95f2bfb2110"
      },
      "execution_count": 4,
      "outputs": [
        {
          "output_type": "stream",
          "name": "stdout",
          "text": [
            "Successfully imported the CSV file as df_original.\n"
          ]
        }
      ]
    },
    {
      "cell_type": "markdown",
      "source": [
        "# Examine Original Data Set:"
      ],
      "metadata": {
        "id": "7eOxOJQXJo6Z"
      }
    },
    {
      "cell_type": "code",
      "source": [],
      "metadata": {
        "id": "_6H8lM7_IqKv"
      },
      "execution_count": null,
      "outputs": []
    }
  ]
}